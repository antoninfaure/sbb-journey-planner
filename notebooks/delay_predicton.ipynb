{
 "cells": [
  {
   "cell_type": "markdown",
   "id": "0fc82794-6eaa-40f8-9c87-41bf0a27c678",
   "metadata": {},
   "source": [
    "# **DELAY PREDICTION**\n",
    "In this notebook several models are implemented and tested out for predicting the delay of a sbb connection (= sequence of stops in the sbb network). They all output a numeric value which is the delay in minutes for the inputted connection.import os\n",
    "import pandas as pd\n",
    "pd.set_option(\"display.max_columns\", 50)\n",
    "import matplotlib.pyplot as plt\n",
    "import warnings\n",
    "import plotly.express as px\n",
    "import plotly.graph_objects as go\n",
    "warnings.simplefilter(action='ignore', category=UserWarning)"
   ]
  },
  {
   "cell_type": "code",
   "execution_count": null,
   "id": "2e743fc9-314f-424b-ab28-de5389a760cd",
   "metadata": {},
   "outputs": [],
   "source": []
  },
  {
   "cell_type": "code",
   "execution_count": 2,
   "id": "ed77c926-427f-4b4b-b03a-4e7b00edfb95",
   "metadata": {},
   "outputs": [],
   "source": [
    "import os\n",
    "import pandas as pd\n",
    "pd.set_option(\"display.max_columns\", 50)\n",
    "import matplotlib.pyplot as plt\n",
    "import warnings\n",
    "import plotly.express as px\n",
    "import plotly.graph_objects as go\n",
    "warnings.simplefilter(action='ignore', category=UserWarning)\n",
    "from pyhive import hive"
   ]
  },
  {
   "cell_type": "code",
   "execution_count": 3,
   "id": "4cd0a827-8a52-4ee0-95e1-2444bd903e32",
   "metadata": {},
   "outputs": [],
   "source": [
    "# Set python variables from environment variables\n",
    "username = os.environ['USERNAME']\n",
    "hive_host = os.environ['HIVE_SERVER2'].split(':')[0]\n",
    "hive_port = os.environ['HIVE_SERVER2'].split(':')[1]"
   ]
  },
  {
   "cell_type": "code",
   "execution_count": 4,
   "id": "62f0af65-7c9f-4ff8-b6b5-5ff090f55d17",
   "metadata": {},
   "outputs": [
    {
     "name": "stdout",
     "output_type": "stream",
     "text": [
      "your username is hanygeor\n",
      "you are connected to iccluster044.iccluster.epfl.ch:10000\n"
     ]
    }
   ],
   "source": [
    "# create connection\n",
    "conn = hive.connect(\n",
    "    host=hive_host,\n",
    "    port=hive_port,\n",
    "    # auth=\"KERBEROS\",\n",
    "    # kerberos_service_name = \"hive\"\n",
    ")\n",
    "\n",
    "# create cursor\n",
    "cur = conn.cursor()\n",
    "\n",
    "print(f\"your username is {username}\")\n",
    "print(f\"you are connected to {hive_host}:{hive_port}\")"
   ]
  },
  {
   "cell_type": "code",
   "execution_count": null,
   "id": "156232e2-4fe4-45ec-8c34-f90471812673",
   "metadata": {},
   "outputs": [],
   "source": [
    "query = f\"\"\"\n",
    "    SELECT month AS month_year, LOWER(produkt_id) AS ttype, COUNT(*) AS stops\n",
    "    FROM {username}.sbb_orc \n",
    "    WHERE betriebstag LIKE '__.__.2022' AND produkt_id IS NOT NULL AND produkt_id!=''\n",
    "    GROUP BY LOWER(produkt_id), month\n",
    "    ORDER BY LOWER(produkt_id) ASC, month ASC \n",
    "\"\"\"\n",
    "data = pd.read_sql(query, conn)"
   ]
  },
  {
   "cell_type": "markdown",
   "id": "f4772959-66e0-4d51-b546-5dc59f2be23e",
   "metadata": {},
   "source": [
    "# Cleaning and data preparation\n",
    "Consider tasks and its assumptions:\n",
    "   1. We only consider departure and arrival stops in a 15km radius of Zürich's train station, Zürich HB (8503000), (lat, lon) = (47.378177, 8.540192)\n",
    "   2. We only consider journeys at reasonable hours of the day, and on a typical business day, and assuming a recent schedule. --> TODO think: does this mean we should train our model without weekend days (= typical business day), connections during the night (=reasonable hours of the day) and a recent schedule (which means what??)"
   ]
  },
  {
   "cell_type": "code",
   "execution_count": null,
   "id": "86230e9e-22c7-4edd-b776-668118ec05da",
   "metadata": {},
   "outputs": [],
   "source": [
    "query = f\"\"\"\n",
    "    DROP TABLE IF EXISTS {username}.sbb_zurich\n",
    "\"\"\"\n",
    "cur.execute(query)"
   ]
  },
  {
   "cell_type": "code",
   "execution_count": 9,
   "id": "d6e68c1d-11b4-42df-8485-9e1afe998bbb",
   "metadata": {},
   "outputs": [],
   "source": [
    "# filter for stops in a 15km radius of ZH train station (lat, lon) = (47.378177, 8.540192)\n",
    "query = f\"\"\"\n",
    "    CREATE TABLE {username}.sbb_zurich\n",
    "    AS \n",
    "        SELECT *\n",
    "        FROM {username}.sbb_stops_orc\n",
    "        WHERE (6371 * acos(cos(radians(STOP_LAT)) * cos(radians(47.378177))\n",
    "                        * cos(radians(8.540192) - radians(STOP_LON))\n",
    "                        + sin(radians(STOP_LAT)) * sin(radians(47.378177)))) <= 15\n",
    "\"\"\"\n",
    "cur.execute(query)"
   ]
  },
  {
   "cell_type": "code",
   "execution_count": null,
   "id": "ffc18b1a-ed9b-4489-bada-3992acfd64d7",
   "metadata": {},
   "outputs": [],
   "source": [
    "# Unused\n",
    "# filter for stops in a 15km radius of ZH train station (lat, lon) = (47.378177, 8.540192)\n",
    "query_filter_stops_near_zh = f\"\"\"\n",
    "    SELECT *\n",
    "    FROM {username}.sbb_stops_orc\n",
    "    WHERE (6371 * acos(cos(radians(STOP_LAT)) * cos(radians(47.378177))\n",
    "                    * cos(radians(8.540192) - radians(STOP_LON))\n",
    "                    + sin(radians(STOP_LAT)) * sin(radians(47.378177)))) <= 15\n",
    "\"\"\"\n",
    "stops_near_zh_central = pd.read_sql(query_filter_stops_near_zh, conn)\n",
    "stops_near_zh_central"
   ]
  },
  {
   "cell_type": "code",
   "execution_count": 10,
   "id": "a84c61f1-4830-42de-9d32-921c0dc0aa5d",
   "metadata": {},
   "outputs": [],
   "source": [
    "query = f\"\"\"\n",
    "    SELECT * FROM {username}.sbb_zurich\n",
    "\"\"\"\n",
    "df_koukou = pd.read_sql(query, conn)"
   ]
  },
  {
   "cell_type": "code",
   "execution_count": 11,
   "id": "dc71ca64-3502-475c-84bb-e2432c9d9964",
   "metadata": {},
   "outputs": [
    {
     "data": {
      "text/html": [
       "<div>\n",
       "<style scoped>\n",
       "    .dataframe tbody tr th:only-of-type {\n",
       "        vertical-align: middle;\n",
       "    }\n",
       "\n",
       "    .dataframe tbody tr th {\n",
       "        vertical-align: top;\n",
       "    }\n",
       "\n",
       "    .dataframe thead th {\n",
       "        text-align: right;\n",
       "    }\n",
       "</style>\n",
       "<table border=\"1\" class=\"dataframe\">\n",
       "  <thead>\n",
       "    <tr style=\"text-align: right;\">\n",
       "      <th></th>\n",
       "      <th>sbb_zurich.stop_id</th>\n",
       "      <th>sbb_zurich.stop_name</th>\n",
       "      <th>sbb_zurich.stop_lat</th>\n",
       "      <th>sbb_zurich.stop_lon</th>\n",
       "      <th>sbb_zurich.location_type</th>\n",
       "      <th>sbb_zurich.parent_station</th>\n",
       "    </tr>\n",
       "  </thead>\n",
       "  <tbody>\n",
       "    <tr>\n",
       "      <th>0</th>\n",
       "      <td>176</td>\n",
       "      <td>Zimmerberg-Basistunnel</td>\n",
       "      <td>47.351677</td>\n",
       "      <td>8.521957</td>\n",
       "      <td></td>\n",
       "      <td></td>\n",
       "    </tr>\n",
       "    <tr>\n",
       "      <th>1</th>\n",
       "      <td>8500926</td>\n",
       "      <td>Oetwil a.d.L., Schweizäcker</td>\n",
       "      <td>47.423626</td>\n",
       "      <td>8.403183</td>\n",
       "      <td></td>\n",
       "      <td></td>\n",
       "    </tr>\n",
       "    <tr>\n",
       "      <th>2</th>\n",
       "      <td>8502075</td>\n",
       "      <td>Zürich Flughafen, Carterminal</td>\n",
       "      <td>47.451023</td>\n",
       "      <td>8.563729</td>\n",
       "      <td></td>\n",
       "      <td></td>\n",
       "    </tr>\n",
       "    <tr>\n",
       "      <th>3</th>\n",
       "      <td>8502186</td>\n",
       "      <td>Dietikon Stoffelbach</td>\n",
       "      <td>47.393326</td>\n",
       "      <td>8.398960</td>\n",
       "      <td></td>\n",
       "      <td>Parent8502186</td>\n",
       "    </tr>\n",
       "    <tr>\n",
       "      <th>4</th>\n",
       "      <td>8502186:0</td>\n",
       "      <td>Dietikon Stoffelbach</td>\n",
       "      <td>47.393400</td>\n",
       "      <td>8.398943</td>\n",
       "      <td></td>\n",
       "      <td>Parent8502186</td>\n",
       "    </tr>\n",
       "  </tbody>\n",
       "</table>\n",
       "</div>"
      ],
      "text/plain": [
       "  sbb_zurich.stop_id           sbb_zurich.stop_name  sbb_zurich.stop_lat  \\\n",
       "0                176         Zimmerberg-Basistunnel            47.351677   \n",
       "1            8500926    Oetwil a.d.L., Schweizäcker            47.423626   \n",
       "2            8502075  Zürich Flughafen, Carterminal            47.451023   \n",
       "3            8502186           Dietikon Stoffelbach            47.393326   \n",
       "4          8502186:0           Dietikon Stoffelbach            47.393400   \n",
       "\n",
       "   sbb_zurich.stop_lon sbb_zurich.location_type sbb_zurich.parent_station  \n",
       "0             8.521957                                                     \n",
       "1             8.403183                                                     \n",
       "2             8.563729                                                     \n",
       "3             8.398960                                      Parent8502186  \n",
       "4             8.398943                                      Parent8502186  "
      ]
     },
     "execution_count": 11,
     "metadata": {},
     "output_type": "execute_result"
    }
   ],
   "source": [
    "df_koukou.head()"
   ]
  },
  {
   "cell_type": "markdown",
   "id": "223ffb56-d2c1-4eda-9bcd-66f8ff5edb15",
   "metadata": {},
   "source": [
    "## Statistical model\n",
    "Delay in minutes of a connection A to B is regarded as random variable. In this model we find the average delay with alpha 5% certainty. "
   ]
  },
  {
   "cell_type": "code",
   "execution_count": null,
   "id": "c4217012-45fd-451b-b551-f881e62d3541",
   "metadata": {},
   "outputs": [],
   "source": [
    "data"
   ]
  },
  {
   "cell_type": "code",
   "execution_count": null,
   "id": "504d2f7e-b715-44bd-ac5b-8af020fbd202",
   "metadata": {},
   "outputs": [],
   "source": [
    "# set parameters\n",
    "start = 0\n",
    "destination = 1"
   ]
  },
  {
   "cell_type": "code",
   "execution_count": null,
   "id": "0f930ad4-ea5f-4f37-b4e8-77dc9a361594",
   "metadata": {},
   "outputs": [],
   "source": [
    "# import data from hdfs using hive (gives an error)\n",
    "query = f\"\"\"\n",
    "    SELECT ANKUNFTSZET, AN_PROGNOSE, ABFAHRTSZEIT, AB_PROGNOSE\n",
    "    FROM {username}.sbb_orc \n",
    "\"\"\"\n",
    "\n",
    "data = pd.read_sql(query, conn)"
   ]
  },
  {
   "cell_type": "code",
   "execution_count": 4,
   "id": "29b804fa-604d-4796-86e4-fca554a9ddfa",
   "metadata": {},
   "outputs": [],
   "source": [
    "# get stops 15km around ZH central station \n",
    "# since \"We only consider departure and arrival stops in a 15km radius of Zürich's train station, Zürich HB (8503000), (lat, lon) = (47.378177, 8.540192)"
   ]
  },
  {
   "cell_type": "code",
   "execution_count": 12,
   "id": "9a2bffe8-367e-4916-bb63-6fb911d1f674",
   "metadata": {},
   "outputs": [],
   "source": [
    "# Step 1: create table of delays\n",
    "\n",
    "\n",
    "query = f\"\"\"\n",
    "    DROP TABLE IF EXISTS {username}.sbb_delays_ic_gen\n",
    "\"\"\"\n",
    "cur.execute(query)\n",
    "\n",
    "query = f\"\"\"\n",
    "    CREATE TABLE {username}.sbb_delays_ic_gen\n",
    "    STORED AS ORC\n",
    "    AS WITH Times AS(\n",
    "        SELECT linien_id AS train, \n",
    "               unix_timestamp(ANKUNFTSZEIT, 'dd.MM.yyyy HH:mm') AS expected, \n",
    "               unix_timestamp(AN_PROGNOSE, 'dd.MM.yyyy HH:mm:ss') AS actual\n",
    "        FROM {username}.sbb_orc AS t_o\n",
    "        JOIN {username}.sbb_zurich AS t_z ON t_z.stop_name = t_o.HALTESTELLEN_NAME\n",
    "    )\n",
    "    SELECT train, IF(actual > expected, actual - expected, 0) AS delay\n",
    "    FROM Times\n",
    "\"\"\"\n",
    "cur.execute(query)"
   ]
  },
  {
   "cell_type": "code",
   "execution_count": null,
   "id": "7e27943e-da00-40fc-9dff-87de4a94ad0f",
   "metadata": {},
   "outputs": [],
   "source": [
    "# Step 2: get the stats out for the median and 3rd (.75) quartile\n",
    "\n",
    "query = f\"\"\"\n",
    "    SELECT train,\n",
    "           percentile_approx(delay, 0.5) AS second, \n",
    "           percentile_approx(delay, 0.75) AS third\n",
    "    FROM {username}.sbb_delays_ic_gen\n",
    "    GROUP BY train\n",
    "    ORDER BY train\n",
    "\"\"\"\n",
    "df_delays_ic_gen = pd.read_sql(query, conn)"
   ]
  },
  {
   "cell_type": "code",
   "execution_count": null,
   "id": "cf5fa2e9-f4fb-41e1-9f94-0e749f7179ce",
   "metadata": {},
   "outputs": [],
   "source": [
    "df_delays_ic_gen.head()"
   ]
  },
  {
   "cell_type": "code",
   "execution_count": null,
   "id": "b224b32e-277c-4a9f-bc6a-dbb5f1cce80d",
   "metadata": {},
   "outputs": [],
   "source": [
    "query = f\"\"\"\n",
    "    SELECT * FROM {username}.sbb_delays_ic_gen\n",
    "\"\"\"\n",
    "df_koukou = pd.read_sql(query, conn)"
   ]
  },
  {
   "cell_type": "code",
   "execution_count": null,
   "id": "754bbef9-3669-4553-a1e7-c8b4ae67c45a",
   "metadata": {},
   "outputs": [],
   "source": []
  }
 ],
 "metadata": {
  "kernelspec": {
   "display_name": "Python 3 (ipykernel)",
   "language": "python",
   "name": "python3"
  },
  "language_info": {
   "codemirror_mode": {
    "name": "ipython",
    "version": 3
   },
   "file_extension": ".py",
   "mimetype": "text/x-python",
   "name": "python",
   "nbconvert_exporter": "python",
   "pygments_lexer": "ipython3",
   "version": "3.9.12"
  }
 },
 "nbformat": 4,
 "nbformat_minor": 5
}
