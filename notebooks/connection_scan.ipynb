{
 "cells": [
  {
   "cell_type": "code",
   "execution_count": 1,
   "id": "e36cb6c9-ca3d-484a-8158-a0e7697b357c",
   "metadata": {},
   "outputs": [],
   "source": [
    "import pandas as pd\n",
    "from datetime import datetime, timedelta"
   ]
  },
  {
   "cell_type": "code",
   "execution_count": 2,
   "id": "4558e2a6-8890-40d8-9dae-6cb6e0099240",
   "metadata": {},
   "outputs": [],
   "source": [
    "def is_reachable(T, S, c):\n",
    "    return c.trip_id in T or (c.departure_stop in S and S[c.departure_stop] < c.departure_time)\n",
    "\n",
    "def connection_scan(source, target, start_time, footpaths, connections):\n",
    "    S = {}\n",
    "    T = {}\n",
    "    J = {}\n",
    "    S[source] = start_time\n",
    "    for _, f in footpaths[footpaths['from_stop_id'] == source].iterrows():\n",
    "        S[f.to_stop_id] = start_time + timedelta(minutes=int(f.transfer_time))\n",
    "    \n",
    "    for _, c in connections.iterrows():\n",
    "        if target in S and S[target] <= c.departure_time:\n",
    "            break\n",
    "        \n",
    "        if is_reachable(T, S, c):\n",
    "            if c.trip_id not in T:\n",
    "                T[c.trip_id] = c\n",
    "            for _, f in footpaths[footpaths['from_stop_id'] == c.arrival_stop].iterrows():\n",
    "                if c.arrival_stop not in S or c.arrival_time + timedelta(minutes=int(f.transfer_time)) < S[c.arrival_stop]:\n",
    "                    S[c.arrival_stop] = c.arrival_time + timedelta(minutes=int(f.transfer_time))\n",
    "                    J[c.arrival_stop] = (T[c.trip_id], c, f.transfer_time)\n",
    "    return J\n",
    "\n",
    "def get_journey(source, target, J, footpaths):\n",
    "    journey = []\n",
    "    t = target\n",
    "    while t in J and J[t] is not None:\n",
    "        journey = [J[t]] + journey\n",
    "        t = J[t][0]['departure_stop']\n",
    "    mask = (footpaths['from_stop_id'] == source) & (footpaths['to_stop_id'] == t)\n",
    "    if not footpaths.loc[mask].empty:\n",
    "        path = footpaths.loc[mask].iloc[0]\n",
    "        journey = [path] + journey\n",
    "    return journey"
   ]
  },
  {
   "cell_type": "code",
   "execution_count": 3,
   "id": "d0a14a3f-f540-435a-b28a-207e633d98dd",
   "metadata": {},
   "outputs": [],
   "source": [
    "connections_df = pd.read_csv('../data/connections.csv')\n",
    "transfers_df = pd.read_csv('../data/transfers.csv')\n",
    "\n",
    "# connections_df['departure_time'] = pd.to_datetime(connections_df['departure_time'])\n",
    "# connections_df['arrival_time'] = pd.to_datetime(connections_df['arrival_time'])\n",
    "\n",
    "statr_time = datetime(year=2023, month=5, day=21, hour=6, minute=0)\n",
    "\n",
    "transform_today_time = lambda col: lambda row: datetime.fromisoformat(f'{today} {row[col]}')\n",
    "\n",
    "connections_df['departure_time'] = connections_df.apply(transform_today_time('departure_time'), axis=1)\n",
    "connections_df['arrival_time'] = connections_df.apply(transform_today_time('arrival_time'), axis=1)"
   ]
  },
  {
   "cell_type": "code",
   "execution_count": 4,
   "id": "b3486936-f550-44e6-8c72-afdf3f00d173",
   "metadata": {},
   "outputs": [
    {
     "name": "stdout",
     "output_type": "stream",
     "text": [
      "[from_stop_id     8503000\n",
      "to_stop_id       8587349\n",
      "transfer_time        7.0\n",
      "Name: 3078, dtype: object, (trip_id           66.TA.91-14-A-j22-1.7.H\n",
      "departure_time        2023-05-21 06:11:00\n",
      "arrival_time          2023-05-21 06:12:00\n",
      "departure_stop                    8587349\n",
      "arrival_stop                      8587348\n",
      "route_desc                              T\n",
      "Name: 1035123, dtype: object, trip_id           66.TA.91-14-A-j22-1.7.H\n",
      "departure_time        2023-05-21 06:19:00\n",
      "arrival_time          2023-05-21 06:21:00\n",
      "departure_stop                    8591427\n",
      "arrival_stop                      8573710\n",
      "route_desc                              T\n",
      "Name: 399712, dtype: object, 4.0), (trip_id           18.TA.96-182-4-j22-1.2.H\n",
      "departure_time         2023-05-21 06:28:00\n",
      "arrival_time           2023-05-21 06:30:00\n",
      "departure_stop                     8573710\n",
      "arrival_stop                       8591341\n",
      "route_desc                               B\n",
      "Name: 194137, dtype: object, trip_id           18.TA.96-182-4-j22-1.2.H\n",
      "departure_time         2023-05-21 06:36:00\n",
      "arrival_time           2023-05-21 06:37:00\n",
      "departure_stop                     8503610\n",
      "arrival_stop                       8573711\n",
      "route_desc                               B\n",
      "Name: 195660, dtype: object, 2.0)]\n"
     ]
    }
   ],
   "source": [
    "# small test from Züirch HB to Züirch, Sädlenweg\n",
    "source = '8503000' # Züirch HB \n",
    "target = '8573711' # Zürich, Sädlenweg\n",
    "\n",
    "J = connection_scan(source, target, statr_time, transfers_df, connections_df.sort_values(by='departure_time'))\n",
    "# the suggested route is: 1. walk from Züirch HB to Zürich (8503000), Bahnhofquai/HB (8587349)\n",
    "#                         2. take tram from Zürich, Bahnhofquai/HB (8587349) to Zürich Wiedikon, Bahnhof (8573710)\n",
    "#                         3. transfer to another tram from Zürich Wiedikon (8573710), Bahnhof to Zürich, Sädlenweg (8573711)\n",
    "print(get_journey(source, target, J, transfers_df))"
   ]
  }
 ],
 "metadata": {
  "kernelspec": {
   "display_name": "Python 3 (ipykernel)",
   "language": "python",
   "name": "python3"
  },
  "language_info": {
   "codemirror_mode": {
    "name": "ipython",
    "version": 3
   },
   "file_extension": ".py",
   "mimetype": "text/x-python",
   "name": "python",
   "nbconvert_exporter": "python",
   "pygments_lexer": "ipython3",
   "version": "3.9.12"
  }
 },
 "nbformat": 4,
 "nbformat_minor": 5
}
