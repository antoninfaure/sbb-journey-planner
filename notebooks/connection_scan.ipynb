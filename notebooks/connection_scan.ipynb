{
 "cells": [
  {
   "cell_type": "code",
   "execution_count": 1,
   "id": "e36cb6c9-ca3d-484a-8158-a0e7697b357c",
   "metadata": {},
   "outputs": [],
   "source": [
    "import pandas as pd\n",
    "from datetime import datetime, timedelta"
   ]
  },
  {
   "cell_type": "code",
   "execution_count": null,
   "id": "a02ed1c3-6237-4d54-a903-3a993b35cc3e",
   "metadata": {},
   "outputs": [],
   "source": [
    "!git lfs pull"
   ]
  },
  {
   "cell_type": "code",
   "execution_count": 2,
   "id": "4558e2a6-8890-40d8-9dae-6cb6e0099240",
   "metadata": {},
   "outputs": [],
   "source": [
    "def connection_scan(source, target, start_time, connections, transfers):\n",
    "    '''\n",
    "    Args:\n",
    "        source: stop_id of the initial stop\n",
    "        target: stop_id of the destination stop\n",
    "        start_time: initial datetime\n",
    "        connections: df containing connections of all considered trips\n",
    "        transfers: df containing transfer time on foot\n",
    "        \n",
    "    Returns:\n",
    "        J: a dictionary of triples (enter connection, exit connection, transfer time) for explored stops\n",
    "    '''\n",
    "    S = {}\n",
    "    T = {}\n",
    "    J = {}\n",
    "    S[source] = start_time\n",
    "    for _, f in transfers[transfers['from_stop_id'] == source].iterrows():\n",
    "        S[f.to_stop_id] = start_time + timedelta(minutes=int(f.transfer_time))\n",
    "\n",
    "    valid_connections = connections[connections['departure_time'] >= start_time]\n",
    "    for _, c in valid_connections.iterrows():\n",
    "        if target in S and S[target] <= c.departure_time:\n",
    "            break\n",
    "        \n",
    "        # check if the connections is reachable\n",
    "        # a connections is reachable if the trip has been reached or\n",
    "        # the arrival time at the stop is less than the connection's departure time\n",
    "        if c.trip_id in T or (c.departure_stop in S and S[c.departure_stop] <= c.departure_time):\n",
    "            if c.trip_id not in T:\n",
    "                T[c.trip_id] = c\n",
    "            \n",
    "            # update the arrival times of stops around the arrival stop reachable on foot\n",
    "            for _, f in transfers[transfers['from_stop_id'] == c.arrival_stop].iterrows():\n",
    "                # if we've reached target, don't add transfer time\n",
    "                if f.from_stop_id == target and f.to_stop_id == target:\n",
    "                    arrival_time = c.arrival_time\n",
    "                else:\n",
    "                    arrival_time = c.arrival_time + timedelta(minutes=int(f.transfer_time))\n",
    "                if f.to_stop_id not in S or arrival_time < S[f.to_stop_id]:\n",
    "                    S[f.to_stop_id] = arrival_time\n",
    "                    J[f.to_stop_id] = (T[c.trip_id], c, f.transfer_time)\n",
    "    return J\n",
    "\n",
    "def get_journey(source, target, J, transfers):\n",
    "    '''construct a journey with J through backtracking\n",
    "    Args:\n",
    "        source: stop_id of the initial stop\n",
    "        target: stop_id of the destination stop\n",
    "        J: journey pointers\n",
    "        transfers: df containing transfer time on foot\n",
    "        \n",
    "    Returns:\n",
    "        journey: an array of transfers and trip legs\n",
    "    '''\n",
    "    journey = []\n",
    "    t = target\n",
    "    while t in J and J[t] is not None:\n",
    "        journey = [J[t]] + journey\n",
    "        t = J[t][0]['departure_stop']\n",
    "    mask = (transfers['from_stop_id'] == source) & (transfers['to_stop_id'] == t)\n",
    "    if not transfers.loc[mask].empty:\n",
    "        path = transfers.loc[mask].iloc[0]\n",
    "        journey = [path] + journey\n",
    "    return journey"
   ]
  },
  {
   "cell_type": "code",
   "execution_count": 3,
   "id": "d0a14a3f-f540-435a-b28a-207e633d98dd",
   "metadata": {},
   "outputs": [],
   "source": [
    "connections_df = pd.read_csv('../data/connections.csv')\n",
    "transfers_df = pd.read_csv('../data/transfers.csv')\n",
    "\n",
    "# connections_df['departure_time'] = pd.to_datetime(connections_df['departure_time'])\n",
    "# connections_df['arrival_time'] = pd.to_datetime(connections_df['arrival_time'])\n",
    "\n",
    "statr_time = datetime(year=2023, month=5, day=21, hour=6, minute=0)\n",
    "date = '2023-05-21'\n",
    "\n",
    "transform_today_time = lambda col: lambda row: datetime.fromisoformat(f'{date} {row[col]}')\n",
    "\n",
    "connections_df['departure_time'] = connections_df.apply(transform_today_time('departure_time'), axis=1)\n",
    "connections_df['arrival_time'] = connections_df.apply(transform_today_time('arrival_time'), axis=1)"
   ]
  },
  {
   "cell_type": "code",
   "execution_count": 4,
   "id": "b3486936-f550-44e6-8c72-afdf3f00d173",
   "metadata": {},
   "outputs": [
    {
     "name": "stdout",
     "output_type": "stream",
     "text": [
      "[from_stop_id          8503000\n",
      "to_stop_id       8503000:0:31\n",
      "transfer_time             7.0\n",
      "Name: 11395, dtype: object, (trip_id           434.TA.91-8-D-j22-1.208.R\n",
      "departure_time          2023-05-21 06:07:00\n",
      "arrival_time            2023-05-21 06:09:00\n",
      "departure_stop                 8503000:0:31\n",
      "arrival_stop                    8503011:0:1\n",
      "route_desc                                S\n",
      "Name: 464371, dtype: object, trip_id           434.TA.91-8-D-j22-1.208.R\n",
      "departure_time          2023-05-21 06:07:00\n",
      "arrival_time            2023-05-21 06:09:00\n",
      "departure_stop                 8503000:0:31\n",
      "arrival_stop                    8503011:0:1\n",
      "route_desc                                S\n",
      "Name: 464371, dtype: object, 4.0), (trip_id           120.TA.96-182-5-j22-1.2.H\n",
      "departure_time          2023-05-21 06:18:00\n",
      "arrival_time            2023-05-21 06:20:00\n",
      "departure_stop                      8573710\n",
      "arrival_stop                        8591341\n",
      "route_desc                                B\n",
      "Name: 1092181, dtype: object, trip_id           120.TA.96-182-5-j22-1.2.H\n",
      "departure_time          2023-05-21 06:26:00\n",
      "arrival_time            2023-05-21 06:27:00\n",
      "departure_stop                      8503610\n",
      "arrival_stop                        8573711\n",
      "route_desc                                B\n",
      "Name: 897619, dtype: object, 2.0)]\n"
     ]
    }
   ],
   "source": [
    "# small test from Züirch HB to Züirch, Sädlenweg\n",
    "source = '8503000' # Züirch HB \n",
    "target = '8573711' # Zürich, Sädlenweg\n",
    "\n",
    "J = connection_scan(source, target, statr_time, connections_df.sort_values(by='departure_time'), transfers_df)\n",
    "# the suggested route is: 1. walk from Züirch HB (8503000) to Zürich HB (8503000:0:31)\n",
    "#                         2. take S-Bahn from Zürich HB (8503000:0:31) to Zürich Wiedikon (8503011:0:1) and walk to Zürich Wiedikon, Bahnhof (8573710)\n",
    "#                         3. transfer to bus from Zürich Wiedikon, Bahnhof (8573710) to Zürich, Sädlenweg (8573711)\n",
    "print(get_journey(source, target, J, transfers_df))"
   ]
  }
 ],
 "metadata": {
  "kernelspec": {
   "display_name": "Python 3 (ipykernel)",
   "language": "python",
   "name": "python3"
  },
  "language_info": {
   "codemirror_mode": {
    "name": "ipython",
    "version": 3
   },
   "file_extension": ".py",
   "mimetype": "text/x-python",
   "name": "python",
   "nbconvert_exporter": "python",
   "pygments_lexer": "ipython3",
   "version": "3.9.12"
  }
 },
 "nbformat": 4,
 "nbformat_minor": 5
}
