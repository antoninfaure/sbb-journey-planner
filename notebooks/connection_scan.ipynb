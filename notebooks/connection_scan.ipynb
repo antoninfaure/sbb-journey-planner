{
 "cells": [
  {
   "cell_type": "code",
   "execution_count": null,
   "id": "e36cb6c9-ca3d-484a-8158-a0e7697b357c",
   "metadata": {},
   "outputs": [],
   "source": [
    "import pandas as pd\n",
    "import numpy as np\n",
    "import sklearn\n",
    "import os\n",
    "import glob\n",
    "from datetime import datetime, timedelta"
   ]
  },
  {
   "cell_type": "code",
   "execution_count": null,
   "id": "4558e2a6-8890-40d8-9dae-6cb6e0099240",
   "metadata": {},
   "outputs": [],
   "source": [
    "def is_reachable(T, S, c):\n",
    "    return c['trip_id'] in T or (c['departure_stop'] in S and S[c['departure_stop']] < c['departure_time'])\n",
    "\n",
    "def connection_scan(source, target, start_time, footpaths, connections):\n",
    "    S = {}\n",
    "    T = {}\n",
    "    J = {}\n",
    "    S[source] = start_time\n",
    "    for i, f in footpaths[footpaths['from_stop_id'] == source].iterrows():\n",
    "        S[i] = start_time + timedelta(minutes=int(f.transfer_time))\n",
    "    \n",
    "    for _, c in connections.iterrows():\n",
    "        if c.arrival_stop == '8590723' and c.departure_stop == '8557033':\n",
    "            print(c)\n",
    "        if target in S and S[target] <= c['departure_time']:\n",
    "            break\n",
    "        \n",
    "        if is_reachable(T, S, c):\n",
    "            if c['trip_id'] not in T:\n",
    "                T[c['trip_id']] = c\n",
    "            for i, f in footpaths[footpaths['from_stop_id'] == c['arrival_stop']].iterrows():\n",
    "                transfer_time = f.transfer_time\n",
    "                if i not in S or c['arrival_time'] + timedelta(minutes=int(transfer_time)) < S[i]:\n",
    "                    S[i] = c['arrival_time'] + timedelta(minutes=int(transfer_time))\n",
    "                    J[i] = (T[c['trip_id']], c, transfer_time)\n",
    "    return J\n",
    "\n",
    "def get_journey(source, target, J, footpaths):\n",
    "    journey = []\n",
    "    t = target\n",
    "    while t in J and J[t] is not None:\n",
    "        journey = [J[t]] + journey\n",
    "        t = J[t][0]['departure_stop']\n",
    "    # if footpaths[source][target] != 0:\n",
    "    #     journey = [footpaths[source][target]] + journey\n",
    "    return journey"
   ]
  },
  {
   "cell_type": "code",
   "execution_count": null,
   "id": "d0a14a3f-f540-435a-b28a-207e633d98dd",
   "metadata": {},
   "outputs": [],
   "source": [
    "connections_df = pd.read_csv('../data/connections.csv')\n",
    "transfers_df = pd.read_csv('../data/transfers.csv')"
   ]
  },
  {
   "cell_type": "code",
   "execution_count": null,
   "id": "676354d8-6eaf-46be-ae2e-69d9d274ff09",
   "metadata": {},
   "outputs": [],
   "source": [
    "today = '2023-05-21'\n",
    "now = datetime(year=2023, month=5, day=21, hour=12, minute=0)\n",
    "\n",
    "transform_today_time = lambda col: lambda row: datetime.fromisoformat(f'{today} {row[col]}')\n",
    "\n",
    "connections_df['departure_time'] = connections_df.apply(transform_today_time('departure_time'), axis=1)\n",
    "connections_df['arrival_time'] = connections_df.apply(transform_today_time('arrival_time'), axis=1)"
   ]
  },
  {
   "cell_type": "code",
   "execution_count": null,
   "id": "b3486936-f550-44e6-8c72-afdf3f00d173",
   "metadata": {},
   "outputs": [],
   "source": [
    "J = connection_scan('8557033', '8573711', datetime(year=2023, month=5, day=21, hour=6, minute=0), transfers_df, connections_df.sort_values(by='departure_time'))"
   ]
  }
 ],
 "metadata": {
  "kernelspec": {
   "display_name": "Python 3 (ipykernel)",
   "language": "python",
   "name": "python3"
  },
  "language_info": {
   "codemirror_mode": {
    "name": "ipython",
    "version": 3
   },
   "file_extension": ".py",
   "mimetype": "text/x-python",
   "name": "python",
   "nbconvert_exporter": "python",
   "pygments_lexer": "ipython3",
   "version": "3.9.12"
  }
 },
 "nbformat": 4,
 "nbformat_minor": 5
}
