{
 "cells": [
  {
   "cell_type": "code",
   "execution_count": 1,
   "id": "881d1199-8562-4fb8-ae94-5850b2fd60d8",
   "metadata": {},
   "outputs": [],
   "source": [
    "import os\n",
    "import pandas as pd\n",
    "pd.set_option(\"display.max_columns\", 50)\n",
    "import matplotlib.pyplot as plt\n",
    "import warnings\n",
    "import plotly.express as px\n",
    "import plotly.graph_objects as go\n",
    "warnings.simplefilter(action='ignore', category=UserWarning)\n",
    "from pyhive import hive"
   ]
  },
  {
   "cell_type": "code",
   "execution_count": 2,
   "id": "02b74660-f6c6-4bfa-babc-9ea48e492858",
   "metadata": {},
   "outputs": [],
   "source": [
    "username = os.environ['USERNAME']\n",
    "hive_host = os.environ['HIVE_SERVER2'].split(':')[0]\n",
    "hive_port = os.environ['HIVE_SERVER2'].split(':')[1]"
   ]
  },
  {
   "cell_type": "code",
   "execution_count": 3,
   "id": "eaa6b6b7-56f3-42de-bc6d-d606f653857a",
   "metadata": {},
   "outputs": [
    {
     "name": "stdout",
     "output_type": "stream",
     "text": [
      "iccluster044.iccluster.epfl.ch\n"
     ]
    }
   ],
   "source": [
    "print(hive_host)"
   ]
  },
  {
   "cell_type": "code",
   "execution_count": 4,
   "id": "d454688b-2c89-4bf7-90ab-f884e1521076",
   "metadata": {},
   "outputs": [],
   "source": [
    "conn = hive.connect(host=hive_host, port=hive_port)"
   ]
  },
  {
   "cell_type": "code",
   "execution_count": 5,
   "id": "118c419c-55c9-4c12-adb4-b7b8df0a5670",
   "metadata": {},
   "outputs": [
    {
     "name": "stdout",
     "output_type": "stream",
     "text": [
      "your username is tcyu\n",
      "you are connected to iccluster044.iccluster.epfl.ch:10000\n"
     ]
    }
   ],
   "source": [
    "cur = conn.cursor()\n",
    "\n",
    "print(f\"your username is {username}\")\n",
    "print(f\"you are connected to {hive_host}:{hive_port}\")"
   ]
  },
  {
   "cell_type": "code",
   "execution_count": null,
   "id": "3cf843a8-4631-499c-8ae1-bcfacf69c0c6",
   "metadata": {},
   "outputs": [
    {
     "data": {
      "text/html": [
       "<div>\n",
       "<style scoped>\n",
       "    .dataframe tbody tr th:only-of-type {\n",
       "        vertical-align: middle;\n",
       "    }\n",
       "\n",
       "    .dataframe tbody tr th {\n",
       "        vertical-align: top;\n",
       "    }\n",
       "\n",
       "    .dataframe thead th {\n",
       "        text-align: right;\n",
       "    }\n",
       "</style>\n",
       "<table border=\"1\" class=\"dataframe\">\n",
       "  <thead>\n",
       "    <tr style=\"text-align: right;\">\n",
       "      <th></th>\n",
       "      <th>sbb_trips_orc.route_id</th>\n",
       "      <th>sbb_trips_orc.service_id</th>\n",
       "      <th>sbb_trips_orc.trip_id</th>\n",
       "      <th>sbb_trips_orc.trip_headsign</th>\n",
       "      <th>sbb_trips_orc.trip_short_name</th>\n",
       "      <th>sbb_trips_orc.direction_id</th>\n",
       "    </tr>\n",
       "  </thead>\n",
       "  <tbody>\n",
       "    <tr>\n",
       "      <th>0</th>\n",
       "      <td>1-1-C-j18-1</td>\n",
       "      <td>TA+b0001</td>\n",
       "      <td>9.TA.1-1-C-j18-1.4.R</td>\n",
       "      <td>Zofingen, Altachen</td>\n",
       "      <td>108</td>\n",
       "      <td>1</td>\n",
       "    </tr>\n",
       "    <tr>\n",
       "      <th>1</th>\n",
       "      <td>1-1-C-j18-1</td>\n",
       "      <td>TA+b0001</td>\n",
       "      <td>11.TA.1-1-C-j18-1.4.R</td>\n",
       "      <td>Zofingen, Altachen</td>\n",
       "      <td>112</td>\n",
       "      <td>1</td>\n",
       "    </tr>\n",
       "    <tr>\n",
       "      <th>2</th>\n",
       "      <td>1-1-C-j18-1</td>\n",
       "      <td>TA+b0001</td>\n",
       "      <td>13.TA.1-1-C-j18-1.4.R</td>\n",
       "      <td>Zofingen, Altachen</td>\n",
       "      <td>116</td>\n",
       "      <td>1</td>\n",
       "    </tr>\n",
       "    <tr>\n",
       "      <th>3</th>\n",
       "      <td>1-1-C-j18-1</td>\n",
       "      <td>TA+b0001</td>\n",
       "      <td>15.TA.1-1-C-j18-1.4.R</td>\n",
       "      <td>Zofingen, Altachen</td>\n",
       "      <td>120</td>\n",
       "      <td>1</td>\n",
       "    </tr>\n",
       "    <tr>\n",
       "      <th>4</th>\n",
       "      <td>1-1-C-j18-1</td>\n",
       "      <td>TA+b0001</td>\n",
       "      <td>17.TA.1-1-C-j18-1.4.R</td>\n",
       "      <td>Zofingen, Altachen</td>\n",
       "      <td>124</td>\n",
       "      <td>1</td>\n",
       "    </tr>\n",
       "  </tbody>\n",
       "</table>\n",
       "</div>"
      ],
      "text/plain": [
       "  sbb_trips_orc.route_id sbb_trips_orc.service_id  sbb_trips_orc.trip_id  \\\n",
       "0            1-1-C-j18-1                 TA+b0001   9.TA.1-1-C-j18-1.4.R   \n",
       "1            1-1-C-j18-1                 TA+b0001  11.TA.1-1-C-j18-1.4.R   \n",
       "2            1-1-C-j18-1                 TA+b0001  13.TA.1-1-C-j18-1.4.R   \n",
       "3            1-1-C-j18-1                 TA+b0001  15.TA.1-1-C-j18-1.4.R   \n",
       "4            1-1-C-j18-1                 TA+b0001  17.TA.1-1-C-j18-1.4.R   \n",
       "\n",
       "  sbb_trips_orc.trip_headsign sbb_trips_orc.trip_short_name  \\\n",
       "0          Zofingen, Altachen                           108   \n",
       "1          Zofingen, Altachen                           112   \n",
       "2          Zofingen, Altachen                           116   \n",
       "3          Zofingen, Altachen                           120   \n",
       "4          Zofingen, Altachen                           124   \n",
       "\n",
       "  sbb_trips_orc.direction_id  \n",
       "0                          1  \n",
       "1                          1  \n",
       "2                          1  \n",
       "3                          1  \n",
       "4                          1  "
      ]
     },
     "execution_count": 6,
     "metadata": {},
     "output_type": "execute_result"
    }
   ],
   "source": [
    "query = f\"\"\"\n",
    "SELECT * FROM {username}.sbb_trips_orc LIMIT 5\n",
    "\"\"\"\n",
    "pd.read_sql(query,conn)"
   ]
  },
  {
   "cell_type": "code",
   "execution_count": 12,
   "id": "b8db7252-8bd5-42d5-80ba-9efa7d5f48d4",
   "metadata": {},
   "outputs": [],
   "source": [
    "# filter for stops in a 15km radius of ZH train station (lat, lon) = (47.378177, 8.540192)\n",
    "query_filter_stops_near_zh = f\"\"\"\n",
    "    CREATE TABLE {username}.filtered_stops\n",
    "    STORED AS ORC\n",
    "    AS\n",
    "    (SELECT *\n",
    "    FROM {username}.sbb_stops_orc\n",
    "    WHERE (6371 * acos(cos(radians(STOP_LAT)) * cos(radians(47.378177))\n",
    "                    * cos(radians(8.540192) - radians(STOP_LON))\n",
    "                    + sin(radians(STOP_LAT)) * sin(radians(47.378177)))) <= 15)\n",
    "\"\"\"\n",
    "cur.execute(query)"
   ]
  },
  {
   "cell_type": "code",
   "execution_count": 13,
   "id": "5e751c43-1658-4755-9b3d-b16df5920875",
   "metadata": {},
   "outputs": [
    {
     "data": {
      "text/html": [
       "<div>\n",
       "<style scoped>\n",
       "    .dataframe tbody tr th:only-of-type {\n",
       "        vertical-align: middle;\n",
       "    }\n",
       "\n",
       "    .dataframe tbody tr th {\n",
       "        vertical-align: top;\n",
       "    }\n",
       "\n",
       "    .dataframe thead th {\n",
       "        text-align: right;\n",
       "    }\n",
       "</style>\n",
       "<table border=\"1\" class=\"dataframe\">\n",
       "  <thead>\n",
       "    <tr style=\"text-align: right;\">\n",
       "      <th></th>\n",
       "      <th>filtered_stops.stop_id</th>\n",
       "      <th>filtered_stops.stop_name</th>\n",
       "      <th>filtered_stops.stop_lat</th>\n",
       "      <th>filtered_stops.stop_lon</th>\n",
       "      <th>filtered_stops.location_type</th>\n",
       "      <th>filtered_stops.parent_station</th>\n",
       "    </tr>\n",
       "  </thead>\n",
       "  <tbody>\n",
       "    <tr>\n",
       "      <th>0</th>\n",
       "      <td>176</td>\n",
       "      <td>Zimmerberg-Basistunnel</td>\n",
       "      <td>47.351677</td>\n",
       "      <td>8.521957</td>\n",
       "      <td></td>\n",
       "      <td></td>\n",
       "    </tr>\n",
       "    <tr>\n",
       "      <th>1</th>\n",
       "      <td>8500926</td>\n",
       "      <td>Oetwil a.d.L., Schweizäcker</td>\n",
       "      <td>47.423626</td>\n",
       "      <td>8.403183</td>\n",
       "      <td></td>\n",
       "      <td></td>\n",
       "    </tr>\n",
       "    <tr>\n",
       "      <th>2</th>\n",
       "      <td>8502075</td>\n",
       "      <td>Zürich Flughafen, Carterminal</td>\n",
       "      <td>47.451023</td>\n",
       "      <td>8.563729</td>\n",
       "      <td></td>\n",
       "      <td></td>\n",
       "    </tr>\n",
       "    <tr>\n",
       "      <th>3</th>\n",
       "      <td>8502186</td>\n",
       "      <td>Dietikon Stoffelbach</td>\n",
       "      <td>47.393326</td>\n",
       "      <td>8.398960</td>\n",
       "      <td></td>\n",
       "      <td>Parent8502186</td>\n",
       "    </tr>\n",
       "    <tr>\n",
       "      <th>4</th>\n",
       "      <td>8502186:0</td>\n",
       "      <td>Dietikon Stoffelbach</td>\n",
       "      <td>47.393400</td>\n",
       "      <td>8.398943</td>\n",
       "      <td></td>\n",
       "      <td>Parent8502186</td>\n",
       "    </tr>\n",
       "  </tbody>\n",
       "</table>\n",
       "</div>"
      ],
      "text/plain": [
       "  filtered_stops.stop_id       filtered_stops.stop_name  \\\n",
       "0                    176         Zimmerberg-Basistunnel   \n",
       "1                8500926    Oetwil a.d.L., Schweizäcker   \n",
       "2                8502075  Zürich Flughafen, Carterminal   \n",
       "3                8502186           Dietikon Stoffelbach   \n",
       "4              8502186:0           Dietikon Stoffelbach   \n",
       "\n",
       "   filtered_stops.stop_lat  filtered_stops.stop_lon  \\\n",
       "0                47.351677                 8.521957   \n",
       "1                47.423626                 8.403183   \n",
       "2                47.451023                 8.563729   \n",
       "3                47.393326                 8.398960   \n",
       "4                47.393400                 8.398943   \n",
       "\n",
       "  filtered_stops.location_type filtered_stops.parent_station  \n",
       "0                                                             \n",
       "1                                                             \n",
       "2                                                             \n",
       "3                                              Parent8502186  \n",
       "4                                              Parent8502186  "
      ]
     },
     "execution_count": 13,
     "metadata": {},
     "output_type": "execute_result"
    }
   ],
   "source": [
    "query_filter_stops_near_zh = f\"\"\"\n",
    "    SELECT *\n",
    "    FROM {username}.filtered_stops\n",
    "    LIMIT 5\n",
    "\"\"\"\n",
    "stops_near_zh_central = pd.read_sql(query_filter_stops_near_zh, conn)\n",
    "stops_near_zh_central"
   ]
  },
  {
   "cell_type": "code",
   "execution_count": null,
   "id": "ddc68149-2d1d-40d9-9925-f60a34149b8d",
   "metadata": {},
   "outputs": [],
   "source": [
    "query = f\"\"\"\n",
    "CREATE TABLE {username}.filtered_stop_times\n",
    "AS\n",
    "SELECT\n",
    "    a.arrival_time,\n",
    "    a.departure_time,\n",
    "    a.stop_id,\n",
    "    a.stop_sequence,\n",
    "    a.pickup_type,\n",
    "    a.drop_off_type\n",
    "FROM {username}.sbb_stop_times_orc a LEFT SEMI JOIN {username}.filtered_stops b\n",
    "ON  a.stop_id = b.stop_id\n",
    "\"\"\"\n",
    "cur.execute(query)"
   ]
  },
  {
   "cell_type": "markdown",
   "id": "f24c7a7a-2bb2-428c-8484-901c5d7a5d72",
   "metadata": {},
   "source": [
    "### Join trips with stop times"
   ]
  },
  {
   "cell_type": "code",
   "execution_count": 14,
   "id": "2485ae6b-e8aa-4cb6-8d36-e27bb2adda8d",
   "metadata": {},
   "outputs": [
    {
     "data": {
      "text/html": [
       "<div>\n",
       "<style scoped>\n",
       "    .dataframe tbody tr th:only-of-type {\n",
       "        vertical-align: middle;\n",
       "    }\n",
       "\n",
       "    .dataframe tbody tr th {\n",
       "        vertical-align: top;\n",
       "    }\n",
       "\n",
       "    .dataframe thead th {\n",
       "        text-align: right;\n",
       "    }\n",
       "</style>\n",
       "<table border=\"1\" class=\"dataframe\">\n",
       "  <thead>\n",
       "    <tr style=\"text-align: right;\">\n",
       "      <th></th>\n",
       "      <th>trip_with_stop_times.route_id</th>\n",
       "      <th>trip_with_stop_times.service_id</th>\n",
       "      <th>trip_with_stop_times.trip_id</th>\n",
       "      <th>trip_with_stop_times.trip_headsign</th>\n",
       "      <th>trip_with_stop_times.trip_short_name</th>\n",
       "      <th>trip_with_stop_times.direction_id</th>\n",
       "      <th>trip_with_stop_times.arrival_time</th>\n",
       "      <th>trip_with_stop_times.departure_time</th>\n",
       "      <th>trip_with_stop_times.stop_id</th>\n",
       "      <th>trip_with_stop_times.stop_sequence</th>\n",
       "      <th>trip_with_stop_times.pickup_type</th>\n",
       "      <th>trip_with_stop_times.drop_off_type</th>\n",
       "    </tr>\n",
       "  </thead>\n",
       "  <tbody>\n",
       "    <tr>\n",
       "      <th>0</th>\n",
       "      <td>96-181-3-j21-1</td>\n",
       "      <td>TA+lg320</td>\n",
       "      <td>88.TA.96-181-3-j21-1.3.H</td>\n",
       "      <td>Zürich Enge, Bahnhof/Bederstr.</td>\n",
       "      <td>26956</td>\n",
       "      <td>0</td>\n",
       "      <td>18:30:00</td>\n",
       "      <td>18:30:00</td>\n",
       "      <td>8591059</td>\n",
       "      <td>8</td>\n",
       "      <td>0</td>\n",
       "      <td>0</td>\n",
       "    </tr>\n",
       "    <tr>\n",
       "      <th>1</th>\n",
       "      <td>96-181-3-j21-1</td>\n",
       "      <td>TA+w1000</td>\n",
       "      <td>88.TA.96-181-3-j21-1.3.H</td>\n",
       "      <td>Zürich Enge, Bahnhof/Bederstr.</td>\n",
       "      <td>10914</td>\n",
       "      <td>0</td>\n",
       "      <td>18:30:00</td>\n",
       "      <td>18:30:00</td>\n",
       "      <td>8591059</td>\n",
       "      <td>8</td>\n",
       "      <td>0</td>\n",
       "      <td>0</td>\n",
       "    </tr>\n",
       "    <tr>\n",
       "      <th>2</th>\n",
       "      <td>96-181-3-j21-1</td>\n",
       "      <td>TA+12000</td>\n",
       "      <td>88.TA.96-181-3-j21-1.3.H</td>\n",
       "      <td>Zürich Enge, Bahnhof/Bederstr.</td>\n",
       "      <td>9364</td>\n",
       "      <td>0</td>\n",
       "      <td>18:30:00</td>\n",
       "      <td>18:30:00</td>\n",
       "      <td>8591059</td>\n",
       "      <td>8</td>\n",
       "      <td>0</td>\n",
       "      <td>0</td>\n",
       "    </tr>\n",
       "    <tr>\n",
       "      <th>3</th>\n",
       "      <td>96-181-3-j21-1</td>\n",
       "      <td>TA+w1000</td>\n",
       "      <td>88.TA.96-181-3-j21-1.3.H</td>\n",
       "      <td>Zürich Enge, Bahnhof/Bederstr.</td>\n",
       "      <td>10914</td>\n",
       "      <td>0</td>\n",
       "      <td>18:30:00</td>\n",
       "      <td>18:30:00</td>\n",
       "      <td>8591059</td>\n",
       "      <td>8</td>\n",
       "      <td>0</td>\n",
       "      <td>0</td>\n",
       "    </tr>\n",
       "    <tr>\n",
       "      <th>4</th>\n",
       "      <td>96-181-3-j21-1</td>\n",
       "      <td>TA+r4o00</td>\n",
       "      <td>88.TA.96-181-3-j21-1.3.H</td>\n",
       "      <td>Zürich Enge, Bahnhof/Bederstr.</td>\n",
       "      <td>35870</td>\n",
       "      <td>0</td>\n",
       "      <td>18:30:00</td>\n",
       "      <td>18:30:00</td>\n",
       "      <td>8591059</td>\n",
       "      <td>8</td>\n",
       "      <td>0</td>\n",
       "      <td>0</td>\n",
       "    </tr>\n",
       "  </tbody>\n",
       "</table>\n",
       "</div>"
      ],
      "text/plain": [
       "  trip_with_stop_times.route_id trip_with_stop_times.service_id  \\\n",
       "0                96-181-3-j21-1                        TA+lg320   \n",
       "1                96-181-3-j21-1                        TA+w1000   \n",
       "2                96-181-3-j21-1                        TA+12000   \n",
       "3                96-181-3-j21-1                        TA+w1000   \n",
       "4                96-181-3-j21-1                        TA+r4o00   \n",
       "\n",
       "  trip_with_stop_times.trip_id trip_with_stop_times.trip_headsign  \\\n",
       "0     88.TA.96-181-3-j21-1.3.H     Zürich Enge, Bahnhof/Bederstr.   \n",
       "1     88.TA.96-181-3-j21-1.3.H     Zürich Enge, Bahnhof/Bederstr.   \n",
       "2     88.TA.96-181-3-j21-1.3.H     Zürich Enge, Bahnhof/Bederstr.   \n",
       "3     88.TA.96-181-3-j21-1.3.H     Zürich Enge, Bahnhof/Bederstr.   \n",
       "4     88.TA.96-181-3-j21-1.3.H     Zürich Enge, Bahnhof/Bederstr.   \n",
       "\n",
       "  trip_with_stop_times.trip_short_name trip_with_stop_times.direction_id  \\\n",
       "0                                26956                                 0   \n",
       "1                                10914                                 0   \n",
       "2                                 9364                                 0   \n",
       "3                                10914                                 0   \n",
       "4                                35870                                 0   \n",
       "\n",
       "  trip_with_stop_times.arrival_time trip_with_stop_times.departure_time  \\\n",
       "0                          18:30:00                            18:30:00   \n",
       "1                          18:30:00                            18:30:00   \n",
       "2                          18:30:00                            18:30:00   \n",
       "3                          18:30:00                            18:30:00   \n",
       "4                          18:30:00                            18:30:00   \n",
       "\n",
       "  trip_with_stop_times.stop_id trip_with_stop_times.stop_sequence  \\\n",
       "0                      8591059                                  8   \n",
       "1                      8591059                                  8   \n",
       "2                      8591059                                  8   \n",
       "3                      8591059                                  8   \n",
       "4                      8591059                                  8   \n",
       "\n",
       "  trip_with_stop_times.pickup_type trip_with_stop_times.drop_off_type  \n",
       "0                                0                                  0  \n",
       "1                                0                                  0  \n",
       "2                                0                                  0  \n",
       "3                                0                                  0  \n",
       "4                                0                                  0  "
      ]
     },
     "execution_count": 14,
     "metadata": {},
     "output_type": "execute_result"
    }
   ],
   "source": [
    "query = f\"\"\"\n",
    "SELECT\n",
    "    *\n",
    "FROM {username}.trip_with_stop_times\n",
    "LIMIT 5\n",
    "\"\"\"\n",
    "# cur.execute(query)\n",
    "pd.read_sql(query,conn)"
   ]
  },
  {
   "cell_type": "markdown",
   "id": "ab4eaec8-bff1-4696-83a8-bc9b61f94d54",
   "metadata": {},
   "source": [
    "### Make connections table including all possible connections"
   ]
  },
  {
   "cell_type": "code",
   "execution_count": null,
   "id": "ba041720-6bbd-4f57-a95f-1b36c154aacd",
   "metadata": {},
   "outputs": [],
   "source": [
    "query = f\"\"\"\n",
    "SELECT s.trip_id FROM (SELECT * FROM {username}.filtered_stop_times LIMIT 100) s\n",
    "\"\"\"\n",
    "# cur.execute(query)\n",
    "stops = pd.read_sql(query,conn)"
   ]
  },
  {
   "cell_type": "code",
   "execution_count": 27,
   "id": "39af1d76-92e4-47bd-96fc-405706c1eaf4",
   "metadata": {},
   "outputs": [
    {
     "name": "stdout",
     "output_type": "stream",
     "text": [
      "1\n",
      "2\n"
     ]
    }
   ],
   "source": [
    "d = {'col1': [1, 2], 'col2': [3, 4]}\n",
    "df = pd.DataFrame(data=d)\n",
    "for r in df:\n",
    "    trip_id = r['trip_id']\n",
    "    query = f\"\"\"\n",
    "            SELECT\n",
    "                *\n",
    "            FROM {username}.filtered_stop_times\n",
    "            WHERE trip_id = {trip_id}\n",
    "            ORDER BY stop_sequence\n",
    "            \"\"\"\n",
    "    trips = pd.read_sql(query, conn)\n",
    "    for i, o in trips.iterrows():\n",
    "        if t['pickup_type'] != 1:\n",
    "            for d in trips[i + 1:]:\n",
    "                if d['drop_off_type'] != 1:\n",
    "                    query = f\"\"\"\n",
    "                            INSERT connections VALUES\n",
    "                            ({o['stop_id']}, {d['stop_id']}, {o['departure_time']}, {d['arrival_time']}, {trip_id})\n",
    "                            \"\"\"\n",
    "                if d['pickup_type'] != 1:\n",
    "                    break"
   ]
  },
  {
   "cell_type": "code",
   "execution_count": 24,
   "id": "2dcf6c8c-ae46-47a7-a5a1-502607bf28d4",
   "metadata": {},
   "outputs": [],
   "source": [
    "import numpy as np"
   ]
  },
  {
   "cell_type": "code",
   "execution_count": 41,
   "id": "4d29afc2-069a-497c-ac10-d2af77d18486",
   "metadata": {},
   "outputs": [
    {
     "name": "stdout",
     "output_type": "stream",
     "text": [
      "   a  b  c\n",
      "0  1  2  3\n",
      "1  4  5  6\n",
      "2  7  8  9\n"
     ]
    }
   ],
   "source": [
    "df = pd.DataFrame(np.array([[1, 2, 3], [4, 5, 6], [7, 8, 9]]),\n",
    "                   columns=['a', 'b', 'c'])\n",
    "print(df)"
   ]
  },
  {
   "cell_type": "code",
   "execution_count": null,
   "id": "cad5bb05-c1d0-44a4-b4c5-32eed00c19b7",
   "metadata": {},
   "outputs": [],
   "source": [
    "stops.head"
   ]
  },
  {
   "cell_type": "markdown",
   "id": "17ebfc45-618d-4981-9ba2-4e4b8eda3ef2",
   "metadata": {},
   "source": [
    "### Make footpath"
   ]
  },
  {
   "cell_type": "code",
   "execution_count": 34,
   "id": "b82645d5-87f4-48fa-9338-8fe4ecf7ac87",
   "metadata": {},
   "outputs": [],
   "source": [
    "from scipy.sparse import csr_matrix, eye\n",
    "from datetime import datetime, timedelta"
   ]
  },
  {
   "cell_type": "code",
   "execution_count": 6,
   "id": "b806f651-3bbc-472e-a97d-8c3d3f328a36",
   "metadata": {},
   "outputs": [],
   "source": [
    "query = f\"\"\"\n",
    "SELECT \n",
    "    stop_id,\n",
    "    stop_lat,\n",
    "    stop_lon\n",
    "FROM {username}.filtered_stops\n",
    "\"\"\"\n",
    "# cur.execute(query)\n",
    "stops = pd.read_sql(query,conn)"
   ]
  },
  {
   "cell_type": "code",
   "execution_count": 17,
   "id": "f79137c2-74f6-4979-8b76-31eb81d930e1",
   "metadata": {},
   "outputs": [],
   "source": [
    "def time(minutes):\n",
    "    return datetime(year=2023, month=5, day=16, hour=12, minute=00) + timedelta(minutes=minutes)"
   ]
  },
  {
   "cell_type": "code",
   "execution_count": 139,
   "id": "20a7dbe9-e66a-49bd-993b-05b0b829c4cd",
   "metadata": {},
   "outputs": [],
   "source": [
    "def is_reachable(T, S, c):\n",
    "    return T[c['trip_id']] is not None or S[c['departure_stop']] < c['departure_time']"
   ]
  },
  {
   "cell_type": "code",
   "execution_count": 168,
   "id": "3fa31095-18e1-4186-a425-dc20b131fb18",
   "metadata": {},
   "outputs": [],
   "source": [
    "def connection_scan(source, target, start_time, num_stops, num_trips, footpaths, connections):\n",
    "    S = [datetime.max] * num_stops\n",
    "    T = [None] * num_trips\n",
    "    J = [None] * num_stops\n",
    "    for i, f in enumerate(footpaths[source]):\n",
    "        if f != 0:\n",
    "            S[i] = start_time + timedelta(minutes=int(f))\n",
    "    \n",
    "    for _, c in connections.iterrows():\n",
    "        if S[target] <= c['departure_time']:\n",
    "            break\n",
    "        \n",
    "        if is_reachable(T, S, c):\n",
    "            if T[c['trip_id']] is None:\n",
    "                T[c['trip_id']] = c\n",
    "            for i, f in enumerate(footpaths[c['arrival_stop']]):\n",
    "                if f != 0:\n",
    "                    if c['arrival_time'] + timedelta(minutes=int(f)) < S[i]:\n",
    "                        S[i] = c['arrival_time'] + timedelta(minutes=int(f))\n",
    "                        J[i] = (T[c['trip_id']], c, f)\n",
    "        print(S)\n",
    "        print()\n",
    "    return J\n",
    "\n",
    "def get_journey(source, target, J, footpaths):\n",
    "    journey = []\n",
    "    t = target\n",
    "    while J[t] is not None:\n",
    "        journey = [J[t]] + journey\n",
    "        t = J[t][0]['departure_stop']\n",
    "    if footpaths[source][target] != 0:\n",
    "        journey = [footpaths[source][target]] + journey\n",
    "    return journey"
   ]
  },
  {
   "cell_type": "code",
   "execution_count": 177,
   "id": "cedd026d-d308-4745-8967-0db544efde12",
   "metadata": {},
   "outputs": [],
   "source": [
    "e_c = [\n",
    "    ['bus', 1, 3, time(15), time(18), 1, 0],\n",
    "    ['train', 1, 2, time(13), time(15), 0, 1],\n",
    "    ['bus', 0, 1, time(10), time(15), 1, 0],\n",
    "    ['train', 4, 1, time(9), time(13), 0, 1],\n",
    "    ['bus', 6, 0, time(8), time(10), 1, 0],\n",
    "    ['train', 5, 4, time(7), time(12), 0, 1],\n",
    "]\n",
    "\n",
    "# what if arrival and departure times are the same\n",
    "\n",
    "df_connections = pd.DataFrame(\n",
    "    e_c, columns=['route_desc', 'departure_stop', 'arrival_stop', 'departure_time',\n",
    "                  'arrival_time', 'trip_id', 'distribution_id']\n",
    ").sort_values(by='departure_time')\n",
    "\n",
    "# footpaths = np.array([\n",
    "#     [1, 0, 0, 0, 0, 0, 0],\n",
    "#     [0, 1, 0, 0, 0, 0, 0],\n",
    "#     [0, 0, 1, 2, 0, 0, 0],\n",
    "#     [0, 0, 2, 1, 0, 0, 0],\n",
    "#     [0, 0, 0, 0, 1, 0, 0],\n",
    "#     [0, 0, 0, 0, 0, 1, 2],\n",
    "#     [0, 0, 0, 0, 0, 2, 1],\n",
    "# ])\n",
    "footpaths = np.array([\n",
    "    [1, 0, 0, 0, 0, 0, 0],\n",
    "    [0, 1, 0, 0, 0, 0, 0],\n",
    "    [0, 0, 1, 0, 0, 0, 0],\n",
    "    [0, 0, 0, 1, 0, 0, 0],\n",
    "    [0, 0, 0, 0, 1, 0, 0],\n",
    "    [0, 0, 0, 0, 0, 1, 0],\n",
    "    [0, 0, 0, 0, 0, 0, 1],\n",
    "])\n",
    "\n",
    "source = 5\n",
    "destination = 3"
   ]
  },
  {
   "cell_type": "code",
   "execution_count": 175,
   "id": "34352864-5d6d-452a-a68a-a325e826b344",
   "metadata": {},
   "outputs": [
    {
     "name": "stdout",
     "output_type": "stream",
     "text": [
      "[datetime.datetime(9999, 12, 31, 23, 59, 59, 999999), datetime.datetime(9999, 12, 31, 23, 59, 59, 999999), datetime.datetime(9999, 12, 31, 23, 59, 59, 999999), datetime.datetime(9999, 12, 31, 23, 59, 59, 999999), Timestamp('2023-05-16 12:13:00'), datetime.datetime(2023, 5, 16, 12, 6), datetime.datetime(9999, 12, 31, 23, 59, 59, 999999)]\n",
      "\n",
      "[datetime.datetime(9999, 12, 31, 23, 59, 59, 999999), datetime.datetime(9999, 12, 31, 23, 59, 59, 999999), datetime.datetime(9999, 12, 31, 23, 59, 59, 999999), datetime.datetime(9999, 12, 31, 23, 59, 59, 999999), Timestamp('2023-05-16 12:13:00'), datetime.datetime(2023, 5, 16, 12, 6), datetime.datetime(9999, 12, 31, 23, 59, 59, 999999)]\n",
      "\n",
      "[datetime.datetime(9999, 12, 31, 23, 59, 59, 999999), Timestamp('2023-05-16 12:14:00'), datetime.datetime(9999, 12, 31, 23, 59, 59, 999999), datetime.datetime(9999, 12, 31, 23, 59, 59, 999999), Timestamp('2023-05-16 12:13:00'), datetime.datetime(2023, 5, 16, 12, 6), datetime.datetime(9999, 12, 31, 23, 59, 59, 999999)]\n",
      "\n",
      "[datetime.datetime(9999, 12, 31, 23, 59, 59, 999999), Timestamp('2023-05-16 12:14:00'), datetime.datetime(9999, 12, 31, 23, 59, 59, 999999), datetime.datetime(9999, 12, 31, 23, 59, 59, 999999), Timestamp('2023-05-16 12:13:00'), datetime.datetime(2023, 5, 16, 12, 6), datetime.datetime(9999, 12, 31, 23, 59, 59, 999999)]\n",
      "\n",
      "[datetime.datetime(9999, 12, 31, 23, 59, 59, 999999), Timestamp('2023-05-16 12:14:00'), Timestamp('2023-05-16 12:16:00'), datetime.datetime(9999, 12, 31, 23, 59, 59, 999999), Timestamp('2023-05-16 12:13:00'), datetime.datetime(2023, 5, 16, 12, 6), datetime.datetime(9999, 12, 31, 23, 59, 59, 999999)]\n",
      "\n",
      "[datetime.datetime(9999, 12, 31, 23, 59, 59, 999999), Timestamp('2023-05-16 12:14:00'), Timestamp('2023-05-16 12:16:00'), Timestamp('2023-05-16 12:19:00'), Timestamp('2023-05-16 12:13:00'), datetime.datetime(2023, 5, 16, 12, 6), datetime.datetime(9999, 12, 31, 23, 59, 59, 999999)]\n",
      "\n"
     ]
    }
   ],
   "source": [
    "J = connection_scan(source, destination, time(5), 7, 2, footpaths, df_connections)"
   ]
  },
  {
   "cell_type": "code",
   "execution_count": 172,
   "id": "1c40f2c3-cf9b-4e8f-873e-371302d44bc2",
   "metadata": {},
   "outputs": [
    {
     "name": "stdout",
     "output_type": "stream",
     "text": [
      "2\n"
     ]
    }
   ],
   "source": [
    "print(J[3][2])"
   ]
  },
  {
   "cell_type": "code",
   "execution_count": 176,
   "id": "aa7c64c8-7c28-4795-ad82-9b2574f5f26f",
   "metadata": {},
   "outputs": [
    {
     "data": {
      "text/plain": [
       "[(route_desc                       train\n",
       "  departure_stop                       5\n",
       "  arrival_stop                         4\n",
       "  departure_time     2023-05-16 12:07:00\n",
       "  arrival_time       2023-05-16 12:12:00\n",
       "  trip_id                              0\n",
       "  distribution_id                      1\n",
       "  Name: 5, dtype: object,\n",
       "  route_desc                       train\n",
       "  departure_stop                       4\n",
       "  arrival_stop                         1\n",
       "  departure_time     2023-05-16 12:09:00\n",
       "  arrival_time       2023-05-16 12:13:00\n",
       "  trip_id                              0\n",
       "  distribution_id                      1\n",
       "  Name: 3, dtype: object,\n",
       "  1),\n",
       " (route_desc                         bus\n",
       "  departure_stop                       1\n",
       "  arrival_stop                         3\n",
       "  departure_time     2023-05-16 12:15:00\n",
       "  arrival_time       2023-05-16 12:18:00\n",
       "  trip_id                              1\n",
       "  distribution_id                      0\n",
       "  Name: 0, dtype: object,\n",
       "  route_desc                         bus\n",
       "  departure_stop                       1\n",
       "  arrival_stop                         3\n",
       "  departure_time     2023-05-16 12:15:00\n",
       "  arrival_time       2023-05-16 12:18:00\n",
       "  trip_id                              1\n",
       "  distribution_id                      0\n",
       "  Name: 0, dtype: object,\n",
       "  1)]"
      ]
     },
     "execution_count": 176,
     "metadata": {},
     "output_type": "execute_result"
    }
   ],
   "source": [
    "get_journey(source, destination, J, footpaths)"
   ]
  }
 ],
 "metadata": {
  "kernelspec": {
   "display_name": "Python 3 (ipykernel)",
   "language": "python",
   "name": "python3"
  },
  "language_info": {
   "codemirror_mode": {
    "name": "ipython",
    "version": 3
   },
   "file_extension": ".py",
   "mimetype": "text/x-python",
   "name": "python",
   "nbconvert_exporter": "python",
   "pygments_lexer": "ipython3",
   "version": "3.9.12"
  }
 },
 "nbformat": 4,
 "nbformat_minor": 5
}
