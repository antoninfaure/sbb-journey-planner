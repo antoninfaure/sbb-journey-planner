{
 "cells": [
  {
   "cell_type": "markdown",
   "id": "3ff626b2-a9f3-460b-8064-2b5aa27a4227",
   "metadata": {},
   "source": [
    "# Import data for our robust journey planer\n",
    "Essential data and how to get it:\n",
    "1. istdaten (= stops and how trains arrive there) --> HDFS: /data/sbb/part_orc/istdaten\n",
    "2. routes, trips and stop times --> sbb website: https://opentransportdata.swiss/en/cookbook/gtfs/ (download and then add to git lfs)\n",
    "3. stations data --> HDFS: /data/sbb/orc/allstops or on sbb website as stops.txt"
   ]
  },
  {
   "cell_type": "code",
   "execution_count": null,
   "id": "b24daf97-4b67-4169-9b94-7d32201e6736",
   "metadata": {},
   "outputs": [],
   "source": []
  }
 ],
 "metadata": {
  "kernelspec": {
   "display_name": "Python 3 (ipykernel)",
   "language": "python",
   "name": "python3"
  },
  "language_info": {
   "codemirror_mode": {
    "name": "ipython",
    "version": 3
   },
   "file_extension": ".py",
   "mimetype": "text/x-python",
   "name": "python",
   "nbconvert_exporter": "python",
   "pygments_lexer": "ipython3",
   "version": "3.9.12"
  }
 },
 "nbformat": 4,
 "nbformat_minor": 5
}
