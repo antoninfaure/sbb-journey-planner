{
 "cells": [
  {
   "cell_type": "code",
   "execution_count": null,
   "id": "71aa419e-54bd-4882-95a4-10d2f8db029d",
   "metadata": {},
   "outputs": [],
   "source": [
    "import pyspark.sql.functions as F\n",
    "from pyspark.sql.functions import lit, col, when\n",
    "from math import radians, cos, sin, asin, sqrt\n",
    "from pyspark.sql import SparkSession"
   ]
  },
  {
   "cell_type": "code",
   "execution_count": null,
   "id": "2af34898-2b48-45d0-a093-17b570719d1f",
   "metadata": {},
   "outputs": [],
   "source": [
    "import os\n",
    "from IPython import get_ipython\n",
    "username = os.environ['RENKU_USERNAME']\n",
    "server = \"http://iccluster044.iccluster.epfl.ch:8998\"\n",
    "\n",
    "get_ipython().run_cell_magic(\n",
    "    'spark',\n",
    "    line='config', \n",
    "    cell=\"\"\"{{ \"name\": \"{0}-final-project\", \"executorMemory\": \"4G\", \"executorCores\": 4, \"numExecutors\": 10, \"driverMemory\": \"4G\" }}\"\"\".format(username)\n",
    ")"
   ]
  },
  {
   "cell_type": "code",
   "execution_count": null,
   "id": "ffcbf79a-3ce8-4080-84f1-5fa8cf2dd7cc",
   "metadata": {},
   "outputs": [],
   "source": [
    "get_ipython().run_line_magic(\n",
    "    \"spark\", f\"\"\"add -s {username}-final-project -l python -u {server} -k\"\"\"\n",
    ")\n",
    "spark = SparkSession.builder.appName(\"final-project\").getOrCreate()"
   ]
  },
  {
   "cell_type": "markdown",
   "id": "3954eff9-6d8c-4f82-ac41-530d07a8b97e",
   "metadata": {},
   "source": [
    "### Select stops that are close to Zurich Hbf (within 15 km)"
   ]
  },
  {
   "cell_type": "code",
   "execution_count": null,
   "id": "a0468048-bcb4-4b56-a847-783876a96f00",
   "metadata": {},
   "outputs": [],
   "source": [
    "stops = spark.read.orc('/data/sbb/orc/allstops')\n",
    "zurich_HB_location = stops.filter(stops.stop_name == 'Zürich HB').select('stop_lat', 'stop_lon').first()\n",
    "bc_zhb_location = spark.sparkContext.broadcast(zurich_HB_location)"
   ]
  },
  {
   "cell_type": "code",
   "execution_count": null,
   "id": "0ee86200-02da-4bb8-b2e0-2060180782f2",
   "metadata": {},
   "outputs": [],
   "source": [
    "@F.udf\n",
    "def distance(lat1, lon1, lat2 = bc_zhb_location.value.stop_lat, lon2 = bc_zhb_location.value.stop_lon):\n",
    "    R = 6371\n",
    "    \n",
    "    d_lat = radians(lat2 - lat1)\n",
    "    d_lon = radians(lon2 - lon1)\n",
    "    \n",
    "    a = sin(d_lat / 2) ** 2 + cos(radians(lat1)) * cos(radians(lat2)) * sin(d_lon / 2) ** 2\n",
    "    c = 2 * asin(sqrt(a))\n",
    "    \n",
    "    return R * c"
   ]
  },
  {
   "cell_type": "code",
   "execution_count": null,
   "id": "68764352-7e70-4780-bf2e-22e93518f160",
   "metadata": {},
   "outputs": [],
   "source": [
    "distance_limit = 15.0\n",
    "\n",
    "stops = stops.filter(distance(stops.stop_lat, stops.stop_lon) <= distance_limit)\n",
    "stops.count()"
   ]
  },
  {
   "cell_type": "markdown",
   "id": "fa80f235-4826-4a5e-baf0-8016547137a6",
   "metadata": {},
   "source": [
    "### Join routes with stop times and filter stop times"
   ]
  },
  {
   "cell_type": "code",
   "execution_count": null,
   "id": "c33b46ef-746e-4b5e-819f-952846c15a25",
   "metadata": {},
   "outputs": [],
   "source": [
    "routes = spark.read.orc('/data/sbb/part_orc/timetables/routes/year=2022/month=5/day=25')\n",
    "trips = spark.read.orc('/data/sbb/part_orc/timetables/trips/year=2022/month=5/day=25')\n",
    "stop_times = spark.read.orc('/data/sbb/part_orc/timetables/stop_times/year=2022/month=5/day=25')\n",
    "\n",
    "# consider only trips between 6 a.m. and 6 p.m.\n",
    "stop_times = stop_times.where((stop_times.departure_time >= \"06:00:00\") & (stop_times.arrival_time <= \"18:00:00\")).join(trips, 'trip_id').join(routes, 'route_id')\n",
    "stop_times = stops.join(stop_times, 'stop_id').select('trip_id', 'arrival_time', 'departure_time', 'stop_id', 'stop_sequence', 'route_id', 'route_desc')\n",
    "stop_times.show()\n",
    "\n",
    "trips = trips.join(stop_times, 'trip_id', 'leftsemi')\n",
    "trips.show()"
   ]
  },
  {
   "cell_type": "markdown",
   "id": "3ad5d0a3-3e4d-4c4b-b536-b56e560d5070",
   "metadata": {},
   "source": [
    "### Create connections\n",
    "`connections` include stop paris of all trips included."
   ]
  },
  {
   "cell_type": "code",
   "execution_count": null,
   "id": "81708b60-a6ec-481a-966d-81fadb4d5444",
   "metadata": {},
   "outputs": [],
   "source": [
    "# join with consecutive stop sequence\n",
    "connections = stop_times.alias('a').crossJoin(stop_times.alias('b')) \\\n",
    "                                   .where((col('a.stop_sequence') == (col('b.stop_sequence') + 1)) & (col('a.trip_id') == col('b.trip_id')) & (col('a.arrival_time') > col('b.departure_time'))) \\\n",
    "                                   .select(col('a.trip_id'), col('b.departure_time'), col('a.arrival_time'), col('b.stop_id').alias('departure_stop'), col('a.stop_id').alias('arrival_stop'), col('a.route_desc'))\n",
    "connections.cache()\n",
    "connections.show()"
   ]
  },
  {
   "cell_type": "markdown",
   "id": "1efc9f67-763e-47a4-9790-888a705caf03",
   "metadata": {},
   "source": [
    "### Create transfers"
   ]
  },
  {
   "cell_type": "code",
   "execution_count": null,
   "id": "f2b528ce-2b37-4b20-9965-5763e5976da6",
   "metadata": {},
   "outputs": [],
   "source": [
    "walk_spped = 50 # m/s\n",
    "walking_time_limit = 10\n",
    "\n",
    "transfers = spark.read.orc('/data/sbb/part_orc/timetables/transfers')\n",
    "transfers = transfers.join(stops.alias('a'), transfers.from_stop_id == col('a.stop_id')) \\\n",
    "                     .join(stops.alias('b'), transfers.to_stop_id == col('b.stop_id')) \\\n",
    "                     .withColumn('transfer_time', transfers.min_transfer_time / 60).drop('min_transfer_time').select('from_stop_id', 'to_stop_id', 'transfer_time') \\\n",
    "                     .dropDuplicates(['from_stop_id', 'to_stop_id'])\n",
    "\n",
    "# add transfer for nearby stops within 10 min. walk\n",
    "stops_without_transfer = stops.join(transfers, stops.stop_id == transfers.from_stop_id, 'leftanti')\n",
    "footpaths = stops_without_transfer.alias('a').crossJoin(stops_without_transfer.alias('b')) \\\n",
    "                                  .withColumn('transfer_time', distance(col('a.stop_lat'), col('a.stop_lon'), col('b.stop_lat'), col('b.stop_lon')) * 1000 / walk_spped) \\\n",
    "                                  .select(col('a.stop_id').alias('from_stop_id'), col('b.stop_id').alias('to_stop_id'), col('transfer_time')) \\\n",
    "                                  .filter(col('transfer_time') <= walking_time_limit) \\\n",
    "                                  .withColumn('transfer_time', when(col('from_stop_id') == col('to_stop_id'), 2).otherwise(col('transfer_time')))\n",
    "# add additional footpaths for transferring at the same stop\n",
    "identity = spark.createDataFrame(stops.select(['stop_id', 'stop_id']).collect(), ['from_stop_id' 'to_stop_id']).withColumn('transfer_time', lit(0))\n",
    "footpaths = footpaths.union(identity)\n",
    "\n",
    "transfers = transfers.union(footpaths)"
   ]
  },
  {
   "cell_type": "code",
   "execution_count": null,
   "id": "6bc0c7dd-7f24-428b-a431-0a2d589e61c5",
   "metadata": {},
   "outputs": [],
   "source": [
    "connections_df = connections.toPandas()\n",
    "connections_df"
   ]
  },
  {
   "cell_type": "code",
   "execution_count": null,
   "id": "68e06296-7b1e-4072-9f7d-520cf40e3d15",
   "metadata": {},
   "outputs": [],
   "source": [
    "transfers_df = transfers.toPandas()\n",
    "transfers_df"
   ]
  },
  {
   "cell_type": "code",
   "execution_count": 16,
   "id": "2b615216-2606-495e-9b5c-463262e7e622",
   "metadata": {},
   "outputs": [],
   "source": [
    "connections_df.to_csv('../data/connections.csv', index=False)\n",
    "transfers_df.to_csv('../data/transfers.csv', index=False)"
   ]
  }
 ],
 "metadata": {
  "kernelspec": {
   "display_name": "Python 3 (ipykernel)",
   "language": "python",
   "name": "python3"
  },
  "language_info": {
   "codemirror_mode": {
    "name": "ipython",
    "version": 3
   },
   "file_extension": ".py",
   "mimetype": "text/x-python",
   "name": "python",
   "nbconvert_exporter": "python",
   "pygments_lexer": "ipython3",
   "version": "3.9.12"
  }
 },
 "nbformat": 4,
 "nbformat_minor": 5
}
